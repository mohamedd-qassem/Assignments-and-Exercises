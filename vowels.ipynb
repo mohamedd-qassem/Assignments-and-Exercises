{
 "cells": [
  {
   "cell_type": "code",
   "execution_count": 8,
   "id": "d10ab9d7-a269-4aef-bb7f-201b439a0307",
   "metadata": {},
   "outputs": [],
   "source": [
    " def count_vowels(input_string):\n",
    "\n",
    "    vowels = \"aAeEiIoOuU\"\n",
    "    count = 0\n",
    "    for char in input_string:\n",
    "        if char in vowels:\n",
    "            count += 1 \n",
    "    return count  "
   ]
  },
  {
   "cell_type": "code",
   "execution_count": 38,
   "id": "37d47ada-cb1d-4b6c-82f7-d0a64dd9e75e",
   "metadata": {},
   "outputs": [
    {
     "name": "stdout",
     "output_type": "stream",
     "text": [
      "Number of vowels:\n",
      "result:  5\n",
      "result1: 5\n",
      "result2: 2\n"
     ]
    }
   ],
   "source": [
    "result = count_vowels(\"Mohamed Qassem\")\n",
    "result1 = count_vowels(\"Heloooo!\")\n",
    "result2 = count_vowels(\"YOu\")\n",
    "print(f\"Number of vowels:\\nresult:  {result}\\nresult1: {result1}\\nresult2: {result2}\")"
   ]
  },
  {
   "cell_type": "code",
   "execution_count": null,
   "id": "059808a0-49fb-4f29-8c97-95376c28dddc",
   "metadata": {},
   "outputs": [],
   "source": []
  }
 ],
 "metadata": {
  "kernelspec": {
   "display_name": "Python 3 (ipykernel)",
   "language": "python",
   "name": "python3"
  },
  "language_info": {
   "codemirror_mode": {
    "name": "ipython",
    "version": 3
   },
   "file_extension": ".py",
   "mimetype": "text/x-python",
   "name": "python",
   "nbconvert_exporter": "python",
   "pygments_lexer": "ipython3",
   "version": "3.12.7"
  }
 },
 "nbformat": 4,
 "nbformat_minor": 5
}

{
 "cells": [
  {
   "cell_type": "code",
   "execution_count": 6,
   "id": "8239726d-5992-4f5b-9900-00395cf7b733",
   "metadata": {},
   "outputs": [
    {
     "name": "stdout",
     "output_type": "stream",
     "text": [
      "{'apple': [0, 5], 'banana': [1, 3], 'orange': [2], 'kiwi': [4]}\n"
     ]
    }
   ],
   "source": [
    "# Input list of words\n",
    "words = [\"apple\", \"banana\", \"orange\", \"banana\", \"kiwi\", \"apple\"]\n",
    "\n",
    "# Initialize an empty dictionary\n",
    "dic = {}\n",
    "\n",
    "# Loop through the list of words\n",
    "for index in range(len(words)):\n",
    "    word = words[index]\n",
    "    \n",
    "    # If the word is not in the dictionary, add it with an empty list\n",
    "    if word not in dic:\n",
    "        dic[word] = []\n",
    "    \n",
    "    # Add the index to the list for this word\n",
    "    dic[word].append(index)\n",
    "\n",
    "# Print the resulting dictionary\n",
    "print(dic)"
   ]
  },
  {
   "cell_type": "code",
   "execution_count": null,
   "id": "4566b64a-4166-4f9f-a16f-aeff88b5569e",
   "metadata": {},
   "outputs": [],
   "source": []
  }
 ],
 "metadata": {
  "kernelspec": {
   "display_name": "Python 3 (ipykernel)",
   "language": "python",
   "name": "python3"
  },
  "language_info": {
   "codemirror_mode": {
    "name": "ipython",
    "version": 3
   },
   "file_extension": ".py",
   "mimetype": "text/x-python",
   "name": "python",
   "nbconvert_exporter": "python",
   "pygments_lexer": "ipython3",
   "version": "3.12.7"
  }
 },
 "nbformat": 4,
 "nbformat_minor": 5
}

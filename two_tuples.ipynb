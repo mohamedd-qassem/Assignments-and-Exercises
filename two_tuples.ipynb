{
 "cells": [
  {
   "cell_type": "code",
   "execution_count": 8,
   "id": "d5ff6a68-3800-447a-ac03-4214868f065f",
   "metadata": {},
   "outputs": [
    {
     "name": "stdout",
     "output_type": "stream",
     "text": [
      "the result of sum of t1 + t2 is (5, 7, 9)\n"
     ]
    }
   ],
   "source": [
    "t1 = (1, 2, 3)\n",
    "t2 = (4, 5, 6)\n",
    "\n",
    "result_list = []\n",
    "\n",
    "for i in range(len(t1)):\n",
    "    \n",
    "    result_list.append(t1[i] + t2[i])\n",
    "\n",
    "# Convert the list to a tuple\n",
    "result_tuple = tuple(result_list)\n",
    "\n",
    "'''\n",
    "    The reason for converting a tuple to a list\n",
    "    and then back to a tuple is that \n",
    "    a tuple is *immutable*\n",
    "'''\n",
    "\n",
    "print(f\"the result of sum of t1 + t2 is {result_tuple}\")\n"
   ]
  },
  {
   "cell_type": "code",
   "execution_count": null,
   "id": "e1744f4c-2a12-47e1-9951-ecf8d013a503",
   "metadata": {},
   "outputs": [],
   "source": []
  }
 ],
 "metadata": {
  "kernelspec": {
   "display_name": "Python 3 (ipykernel)",
   "language": "python",
   "name": "python3"
  },
  "language_info": {
   "codemirror_mode": {
    "name": "ipython",
    "version": 3
   },
   "file_extension": ".py",
   "mimetype": "text/x-python",
   "name": "python",
   "nbconvert_exporter": "python",
   "pygments_lexer": "ipython3",
   "version": "3.12.7"
  }
 },
 "nbformat": 4,
 "nbformat_minor": 5
}

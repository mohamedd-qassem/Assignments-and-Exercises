{
 "cells": [
  {
   "cell_type": "code",
   "execution_count": 68,
   "id": "9e849e7a-4631-41b1-b055-8020d11c43d8",
   "metadata": {},
   "outputs": [],
   "source": [
    "def find_max(numbers):\n",
    "\n",
    "    max_value = numbers[0]\n",
    "    for n in numbers:\n",
    "      \n",
    "        if n > max_value:\n",
    "            max_value = n\n",
    "    \n",
    "    return max_value"
   ]
  },
  {
   "cell_type": "code",
   "execution_count": 70,
   "id": "5c6c9ec7-1138-48bc-b905-e267186404e4",
   "metadata": {},
   "outputs": [
    {
     "name": "stdout",
     "output_type": "stream",
     "text": [
      "Max value : -1\n"
     ]
    }
   ],
   "source": [
    "result = find_max([-5,-1,-9])\n",
    "print(\"Max value :\", result)"
   ]
  },
  {
   "cell_type": "code",
   "execution_count": null,
   "id": "bcd881fa-d8b7-4f9e-9e85-132550ab4356",
   "metadata": {},
   "outputs": [],
   "source": []
  }
 ],
 "metadata": {
  "kernelspec": {
   "display_name": "Python 3 (ipykernel)",
   "language": "python",
   "name": "python3"
  },
  "language_info": {
   "codemirror_mode": {
    "name": "ipython",
    "version": 3
   },
   "file_extension": ".py",
   "mimetype": "text/x-python",
   "name": "python",
   "nbconvert_exporter": "python",
   "pygments_lexer": "ipython3",
   "version": "3.12.7"
  }
 },
 "nbformat": 4,
 "nbformat_minor": 5
}

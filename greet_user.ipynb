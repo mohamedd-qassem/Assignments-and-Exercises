{
 "cells": [
  {
   "cell_type": "code",
   "execution_count": 6,
   "id": "86c31303-4a4f-4eab-901a-c8ddd663631e",
   "metadata": {},
   "outputs": [],
   "source": [
    "def greet_user(name, greeting=\"Hello\"):\n",
    "   \n",
    "    print(f\"{greeting}, {name}!\")"
   ]
  },
  {
   "cell_type": "code",
   "execution_count": 10,
   "id": "b086c637-12c4-4812-90ae-04cefc1c16fb",
   "metadata": {},
   "outputs": [
    {
     "name": "stdout",
     "output_type": "stream",
     "text": [
      "Hello, Qassem!\n",
      "Hi, Mohamed!\n"
     ]
    }
   ],
   "source": [
    "# default greeting\n",
    "greet_user(\"Qassem\")  \n",
    "# a specific greeting\n",
    "greet_user(\"Mohamed\", \"Hi\")  "
   ]
  },
  {
   "cell_type": "code",
   "execution_count": null,
   "id": "8e3d7d9a-2930-4170-974a-e58fb1c41ccc",
   "metadata": {},
   "outputs": [],
   "source": []
  }
 ],
 "metadata": {
  "kernelspec": {
   "display_name": "Python 3 (ipykernel)",
   "language": "python",
   "name": "python3"
  },
  "language_info": {
   "codemirror_mode": {
    "name": "ipython",
    "version": 3
   },
   "file_extension": ".py",
   "mimetype": "text/x-python",
   "name": "python",
   "nbconvert_exporter": "python",
   "pygments_lexer": "ipython3",
   "version": "3.12.7"
  }
 },
 "nbformat": 4,
 "nbformat_minor": 5
}

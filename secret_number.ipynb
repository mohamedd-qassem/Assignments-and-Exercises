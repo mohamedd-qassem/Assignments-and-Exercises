{
 "cells": [
  {
   "cell_type": "code",
   "execution_count": 2,
   "id": "10fc574f-2dcf-4767-9923-207ff9201a3a",
   "metadata": {},
   "outputs": [
    {
     "name": "stdin",
     "output_type": "stream",
     "text": [
      "Guess a number between 1 and 10:  10\n"
     ]
    },
    {
     "name": "stdout",
     "output_type": "stream",
     "text": [
      "Too high! Try again.\n"
     ]
    },
    {
     "name": "stdin",
     "output_type": "stream",
     "text": [
      "Guess a number between 1 and 10:  6\n"
     ]
    },
    {
     "name": "stdout",
     "output_type": "stream",
     "text": [
      "Too low! Try again.\n"
     ]
    },
    {
     "name": "stdin",
     "output_type": "stream",
     "text": [
      "Guess a number between 1 and 10:  7\n"
     ]
    },
    {
     "name": "stdout",
     "output_type": "stream",
     "text": [
      "Congratulations! You guessed the secret number 7.\n"
     ]
    }
   ],
   "source": [
    "secret_number = 7\n",
    "\n",
    "guess = 0\n",
    "\n",
    "while guess != secret_number:\n",
    "    \n",
    "    guess = float(input(\"Guess a number between 1 and 10: \"))\n",
    "    \n",
    "    if guess < secret_number:\n",
    "        print(\"Too low! Try again.\")\n",
    "    elif guess > secret_number:\n",
    "        print(\"Too high! Try again.\")\n",
    "\n",
    "print(f\"Congratulations! You guessed the secret number {secret_number}.\")"
   ]
  },
  {
   "cell_type": "code",
   "execution_count": null,
   "id": "2bb0e9fe-9126-4fbf-a084-fff9f2af3e43",
   "metadata": {},
   "outputs": [],
   "source": []
  }
 ],
 "metadata": {
  "kernelspec": {
   "display_name": "Python 3 (ipykernel)",
   "language": "python",
   "name": "python3"
  },
  "language_info": {
   "codemirror_mode": {
    "name": "ipython",
    "version": 3
   },
   "file_extension": ".py",
   "mimetype": "text/x-python",
   "name": "python",
   "nbconvert_exporter": "python",
   "pygments_lexer": "ipython3",
   "version": "3.12.7"
  }
 },
 "nbformat": 4,
 "nbformat_minor": 5
}
